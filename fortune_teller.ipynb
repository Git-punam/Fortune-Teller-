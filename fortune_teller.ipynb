{
 "cells": [
  {
   "cell_type": "code",
   "execution_count": null,
   "metadata": {},
   "outputs": [],
   "source": [
    "def fortune_teller():\n",
    "    print(\"Welcome to the Fortune Teller!\")\n",
    "    print(\"You will select a COLOR and NUMBER and I will tell what the future holds for you!\")\n",
    "    answer='y'\n",
    "    while answer=='y':\n",
    "        print(\"Select a color [yellow, green,blue, red]:\")\n",
    "        color=input()\n",
    "        if color=='yellow' or color=='blue':\n",
    "            print(\"Select a number [1,3,5,7]:\")\n",
    "            num=int(input())\n",
    "            if num==1:\n",
    "                print(\"Good fortune is yours!\")\n",
    "            elif num==3:\n",
    "                print(\"Someone is thinking of you.\")\n",
    "            elif num==5:\n",
    "                print(\"Welcome change.\")\n",
    "            else:\n",
    "                print(\"Others can help you now.\")\n",
    "        elif color=='green' or color=='red':\n",
    "            print(\"Select a number [2,4,6,8]:\")\n",
    "            num=int(input())\n",
    "            if num==1:\n",
    "                print(\"You will have good luck today!\")\n",
    "            elif num==3:\n",
    "                print(\"\")\n",
    "            elif num==5:\n",
    "                print(\"Good news will come to you by text.\")\n",
    "            else:\n",
    "                print(\"New ideas could be profitable.\")\n",
    "        else:\n",
    "            print(\"Soon life will become more interesting.\")\n",
    "        print(\"Play again? Insert 'y' for YES and 'n' for NO\")\n",
    "        answer=input()\n",
    "        \n",
    "fortune_teller()"
   ]
  }
 ],
 "metadata": {
  "kernelspec": {
   "display_name": "Python 3",
   "language": "python",
   "name": "python3"
  },
  "language_info": {
   "codemirror_mode": {
    "name": "ipython",
    "version": 3
   },
   "file_extension": ".py",
   "mimetype": "text/x-python",
   "name": "python",
   "nbconvert_exporter": "python",
   "pygments_lexer": "ipython3",
   "version": "3.8.5"
  }
 },
 "nbformat": 4,
 "nbformat_minor": 4
}
